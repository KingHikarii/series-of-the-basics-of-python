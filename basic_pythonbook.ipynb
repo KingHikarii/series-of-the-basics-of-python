{
  "nbformat": 4,
  "nbformat_minor": 0,
  "metadata": {
    "colab": {
      "provenance": [],
      "collapsed_sections": [
        "WBdvYvhKbWud",
        "rqmJMOlKo9av",
        "bK_BcD5Z8MSc",
        "Zh8hgxcS7hhs",
        "8jlIW7nbtcw_",
        "0BQ-0HC-4bJj",
        "JWi9meYqCmGK",
        "OSA8mFL5Nx89",
        "wFqPe8QTFIGf"
      ]
    },
    "kernelspec": {
      "name": "python3",
      "display_name": "Python 3"
    },
    "language_info": {
      "name": "python"
    }
  },
  "cells": [
    {
      "cell_type": "markdown",
      "source": [
        "# **Variables and Type Conversion**"
      ],
      "metadata": {
        "id": "WBdvYvhKbWud"
      }
    },
    {
      "cell_type": "markdown",
      "source": [
        "A variable is a container that can hold data, which will be stored within memory. This information can then be accessed and manipulated throughout our code. The following shows an example of a variable being declared using an **=** sign.\n",
        "\n",
        "We can use the print() method to display values of a variable or to show text."
      ],
      "metadata": {
        "id": "pjF9HGOojh7o"
      }
    },
    {
      "cell_type": "code",
      "source": [
        "x = 10\n",
        "name = \"Degnan\"\n",
        "pi = 3.14\n",
        "\n",
        "print(x)\n",
        "print(name)\n",
        "print(pi)"
      ],
      "metadata": {
        "colab": {
          "base_uri": "https://localhost:8080/"
        },
        "id": "M42kbo9ObZQk",
        "outputId": "8769d2b6-f0f9-4009-91dc-b344169cd17f"
      },
      "execution_count": null,
      "outputs": [
        {
          "output_type": "stream",
          "name": "stdout",
          "text": [
            "10\n",
            "Degnan\n",
            "3.14\n"
          ]
        }
      ]
    },
    {
      "cell_type": "markdown",
      "source": [
        "**Types of Variables:**\n",
        "\n",
        "\n",
        "There are different types of variables in Python. These are the different types.\n",
        "\n",
        "*   Integer: A whole number can be stored.\n",
        "*   Float: A decimal number can be stored.\n",
        "*   String: Stores text, which is a series of characters.\n",
        "*   Boolean: *True* or *False* values are able to be stored."
      ],
      "metadata": {
        "id": "HXNWj77QnSlH"
      }
    },
    {
      "cell_type": "code",
      "source": [
        "degnans_age = 26 #integer being stored\n",
        "pi = 3.14 #float being stored\n",
        "name = \"Degnan\" #string being stored\n",
        "is_mathematician = True #boolean being stored"
      ],
      "metadata": {
        "id": "3eOkdvvJkJ92"
      },
      "execution_count": null,
      "outputs": []
    },
    {
      "cell_type": "markdown",
      "source": [
        "**Type Conversion**\n",
        "\n",
        "A type conversion is when you change one datatype to another. There are 2 types of type conversions. That is implicit type conversion and explicit type conversion.\n",
        "\n",
        "\n",
        "\n",
        "1.   Implicit Type Conversion: Python is able to detect when a conversion can be done, if it is logical, therefore changing it automatic\n",
        "\n",
        "2.   Explicit Type Conversion: This is when we change the datatype ourselves manually.\n",
        "\n"
      ],
      "metadata": {
        "id": "iMaAHPkapJOv"
      }
    },
    {
      "cell_type": "code",
      "source": [
        "#eg. implicit conversion\n",
        "\n",
        "a = 1.0\n",
        "b = 2\n",
        "\n",
        "c = a + b\n",
        "\n",
        "print(c)\n",
        "print(type(c)) #automatically changed c into a float"
      ],
      "metadata": {
        "colab": {
          "base_uri": "https://localhost:8080/"
        },
        "id": "I56eJdj5qL6n",
        "outputId": "86a9b9d8-5dfa-4480-a363-1c7b1ba0da2c"
      },
      "execution_count": null,
      "outputs": [
        {
          "output_type": "stream",
          "name": "stdout",
          "text": [
            "3.0\n",
            "<class 'float'>\n"
          ]
        }
      ]
    },
    {
      "cell_type": "code",
      "source": [
        "#e.g explicit conversion\n",
        "\n",
        "a = 1\n",
        "b = \"2\"\n",
        "c = a + int(b)\n",
        "\n",
        "print(c)\n",
        "print(type(c))"
      ],
      "metadata": {
        "colab": {
          "base_uri": "https://localhost:8080/"
        },
        "id": "BPDL2bBprVZ4",
        "outputId": "043b4958-426d-4cd5-a535-2f05a81d7251"
      },
      "execution_count": null,
      "outputs": [
        {
          "output_type": "stream",
          "name": "stdout",
          "text": [
            "3\n",
            "<class 'int'>\n"
          ]
        }
      ]
    },
    {
      "cell_type": "code",
      "source": [
        "zero = 0 #e.g explicit conversion\n",
        "print(bool(zero))"
      ],
      "metadata": {
        "colab": {
          "base_uri": "https://localhost:8080/"
        },
        "id": "QMpaW8upr4v4",
        "outputId": "09e9c259-e11d-4bda-c7d2-08f4a3fbf574"
      },
      "execution_count": null,
      "outputs": [
        {
          "output_type": "stream",
          "name": "stdout",
          "text": [
            "False\n"
          ]
        }
      ]
    },
    {
      "cell_type": "markdown",
      "source": [
        "# **Lists, Sets, and Tuples**"
      ],
      "metadata": {
        "id": "rqmJMOlKo9av"
      }
    },
    {
      "cell_type": "markdown",
      "source": [
        "In Python, there are three built-in data structures that allows us to store a collection of items, these built-in data structures have their own methods in which we can manipulate the data structures. These built-in data structures are called lists, sets, and tuples."
      ],
      "metadata": {
        "id": "oZE1SORk8FVt"
      }
    },
    {
      "cell_type": "markdown",
      "source": [
        "**List**\n",
        "\n",
        "A list can store items of different types, they are also mutable and call allows duplicates.\n",
        "\n",
        "The follow shows list and its different methods being used."
      ],
      "metadata": {
        "id": "CR9ck7VQuhbn"
      }
    },
    {
      "cell_type": "code",
      "source": [
        "list = [10, 20, 30, \"ice_cream\", \"cookies\"]\n",
        "\n",
        "list.append(3.10) #this is adding a float to the list\n",
        "print(list)\n"
      ],
      "metadata": {
        "colab": {
          "base_uri": "https://localhost:8080/"
        },
        "id": "ctj8lM73pCeD",
        "outputId": "d9d05c8a-134a-4f35-e379-ea70e8e42331"
      },
      "execution_count": null,
      "outputs": [
        {
          "output_type": "stream",
          "name": "stdout",
          "text": [
            "[10, 20, 30, 'ice_cream', 'cookies', 3.1]\n"
          ]
        }
      ]
    },
    {
      "cell_type": "code",
      "source": [
        "list.insert(0, \"cake\") #this is adding a string to the beginning of the list\n",
        "print(list)"
      ],
      "metadata": {
        "colab": {
          "base_uri": "https://localhost:8080/"
        },
        "id": "G6fJv9ytwQKT",
        "outputId": "a1bebb95-9eb9-487a-f2cd-665b62b39ee3"
      },
      "execution_count": null,
      "outputs": [
        {
          "output_type": "stream",
          "name": "stdout",
          "text": [
            "['cake', 10, 20, 30, 'ice_cream', 'cookies', 3.1]\n"
          ]
        }
      ]
    },
    {
      "cell_type": "code",
      "source": [
        "list.extend([0.0, 1.1]) #this is appending more elements.\n",
        "print(list)"
      ],
      "metadata": {
        "colab": {
          "base_uri": "https://localhost:8080/"
        },
        "id": "JBtsTOMxwemZ",
        "outputId": "0ecc3bb0-feb8-48e4-9266-af5e28c33d20"
      },
      "execution_count": null,
      "outputs": [
        {
          "output_type": "stream",
          "name": "stdout",
          "text": [
            "['cake', 10, 20, 30, 'ice_cream', 'cookies', 3.1, 0.0, 1.1]\n"
          ]
        }
      ]
    },
    {
      "cell_type": "code",
      "source": [
        "list.remove(\"cookies\") #this is removing an element from the list\n",
        "print(list)"
      ],
      "metadata": {
        "colab": {
          "base_uri": "https://localhost:8080/"
        },
        "id": "3ahzU-oOwmwo",
        "outputId": "f5307344-7ec8-42e9-87bd-16136ae07afe"
      },
      "execution_count": null,
      "outputs": [
        {
          "output_type": "stream",
          "name": "stdout",
          "text": [
            "['cake', 10, 20, 30, 'ice_cream', 3.1, 0.0, 1.1]\n"
          ]
        }
      ]
    },
    {
      "cell_type": "code",
      "source": [
        "list.pop() #this is removing the last element from the list\n",
        "print(list)"
      ],
      "metadata": {
        "colab": {
          "base_uri": "https://localhost:8080/"
        },
        "id": "TubHBg3Cw9vf",
        "outputId": "ef4e5c06-11d4-4c91-b35c-34bc930f5b8b"
      },
      "execution_count": null,
      "outputs": [
        {
          "output_type": "stream",
          "name": "stdout",
          "text": [
            "['cake', 10, 20, 30, 'ice_cream', 3.1, 0.0]\n"
          ]
        }
      ]
    },
    {
      "cell_type": "code",
      "source": [
        "ten_count =list.count(10) #this is counting the number of times an element appears in the list\n",
        "print(ten_count)"
      ],
      "metadata": {
        "colab": {
          "base_uri": "https://localhost:8080/"
        },
        "id": "4KGoP98uxG4c",
        "outputId": "654ea691-e30e-4c4b-e787-acdbfd42d06e"
      },
      "execution_count": null,
      "outputs": [
        {
          "output_type": "stream",
          "name": "stdout",
          "text": [
            "1\n"
          ]
        }
      ]
    },
    {
      "cell_type": "code",
      "source": [
        "list.clear() #this clear a list\n",
        "print(list)"
      ],
      "metadata": {
        "colab": {
          "base_uri": "https://localhost:8080/"
        },
        "id": "hJxxY__YxWcQ",
        "outputId": "b87ab02f-125a-49a9-eb27-e5ebc11d5828"
      },
      "execution_count": null,
      "outputs": [
        {
          "output_type": "stream",
          "name": "stdout",
          "text": [
            "[]\n"
          ]
        }
      ]
    },
    {
      "cell_type": "code",
      "source": [
        "list = [10, 9, 8, 7, 6, 5, 4, 3, 2, 1]\n",
        "list.sort() #this is sorting the list, it can be customized as well with a key and reverse flag.\n",
        "print(list)"
      ],
      "metadata": {
        "colab": {
          "base_uri": "https://localhost:8080/"
        },
        "id": "zEkRnoFcxjPJ",
        "outputId": "f80895f6-1a6a-4e65-add4-e9a94bbcd4c0"
      },
      "execution_count": null,
      "outputs": [
        {
          "output_type": "stream",
          "name": "stdout",
          "text": [
            "[1, 2, 3, 4, 5, 6, 7, 8, 9, 10]\n"
          ]
        }
      ]
    },
    {
      "cell_type": "code",
      "source": [
        "list.reverse() #this is reversing the list\n",
        "print(list)"
      ],
      "metadata": {
        "colab": {
          "base_uri": "https://localhost:8080/"
        },
        "id": "yvcMNIY-xzWo",
        "outputId": "2b9fc7df-671a-4da6-d718-b80e85e411f5"
      },
      "execution_count": null,
      "outputs": [
        {
          "output_type": "stream",
          "name": "stdout",
          "text": [
            "[10, 9, 8, 7, 6, 5, 4, 3, 2, 1]\n"
          ]
        }
      ]
    },
    {
      "cell_type": "code",
      "source": [
        "copied_list = list.copy() #this is copying the list\n",
        "print(copied_list)"
      ],
      "metadata": {
        "colab": {
          "base_uri": "https://localhost:8080/"
        },
        "id": "jCS1Rzlbx9tv",
        "outputId": "f9a584a4-f4c0-48a1-cc2b-dd67f925be39"
      },
      "execution_count": null,
      "outputs": [
        {
          "output_type": "stream",
          "name": "stdout",
          "text": [
            "[10, 9, 8, 7, 6, 5, 4, 3, 2, 1]\n"
          ]
        }
      ]
    },
    {
      "cell_type": "markdown",
      "source": [
        "A tuple is a collection of item, that allows duplicates but cannot be changed, this makes it immutable. You cannot add, remove, or change anything. This is an example of it being used with its different methods."
      ],
      "metadata": {
        "id": "oGttOmozyIFm"
      }
    },
    {
      "cell_type": "code",
      "source": [
        "tuple = (1, 5, 8, 8, \"chocolate\", \"vanilla\")\n",
        "\n",
        "print(tuple)"
      ],
      "metadata": {
        "colab": {
          "base_uri": "https://localhost:8080/"
        },
        "id": "5WbpM5hCyEzY",
        "outputId": "7be83708-05ae-4e4f-8c15-7b18e5e32d93"
      },
      "execution_count": null,
      "outputs": [
        {
          "output_type": "stream",
          "name": "stdout",
          "text": [
            "(1, 5, 8, 8, 'chocolate', 'vanilla')\n"
          ]
        }
      ]
    },
    {
      "cell_type": "code",
      "source": [
        "tuple.index(\"vanilla\") #this is getting the index of an element"
      ],
      "metadata": {
        "colab": {
          "base_uri": "https://localhost:8080/"
        },
        "id": "PX0PUkDJ4FaG",
        "outputId": "4d4d05ba-23d6-4b0e-81b2-08c913bbe6bb"
      },
      "execution_count": null,
      "outputs": [
        {
          "output_type": "execute_result",
          "data": {
            "text/plain": [
              "5"
            ]
          },
          "metadata": {},
          "execution_count": 65
        }
      ]
    },
    {
      "cell_type": "code",
      "source": [
        "tuple.count(8) #this is counting the number of times an element appears in the tuple"
      ],
      "metadata": {
        "colab": {
          "base_uri": "https://localhost:8080/"
        },
        "id": "Ty4R7HFa4IQF",
        "outputId": "405597bb-7c6a-44eb-f412-98b9cb654a14"
      },
      "execution_count": null,
      "outputs": [
        {
          "output_type": "execute_result",
          "data": {
            "text/plain": [
              "2"
            ]
          },
          "metadata": {},
          "execution_count": 66
        }
      ]
    },
    {
      "cell_type": "markdown",
      "source": [
        "*Quick Fact: Tuples are much faster than list because of immutability.*"
      ],
      "metadata": {
        "id": "lVB4qqT54Sok"
      }
    },
    {
      "cell_type": "markdown",
      "source": [
        "A set is a collection of items in which the order of the items will not be preserves, just like tuplees they are immuatable but they do not allow duplicates. Here are some of examples of its uses and methods."
      ],
      "metadata": {
        "id": "m8p_RCRE5o9v"
      }
    },
    {
      "cell_type": "code",
      "source": [
        "n_set = {1, 2, \"was_the_middle\", 4, 5}\n",
        "print(n_set)"
      ],
      "metadata": {
        "colab": {
          "base_uri": "https://localhost:8080/"
        },
        "id": "Sz6G0J8K52aF",
        "outputId": "c498a47a-a9c9-4c13-bb02-18d60026e2d8"
      },
      "execution_count": null,
      "outputs": [
        {
          "output_type": "stream",
          "name": "stdout",
          "text": [
            "{1, 2, 4, 5, 'was_the_middle'}\n"
          ]
        }
      ]
    },
    {
      "cell_type": "code",
      "source": [
        "n_set.add(\"was_the_end\") #this is adding an element to the set\n",
        "print(n_set)"
      ],
      "metadata": {
        "colab": {
          "base_uri": "https://localhost:8080/"
        },
        "id": "ReaBwPgc4N8c",
        "outputId": "9d20b717-d5d3-4773-ba58-020b53a60a21"
      },
      "execution_count": null,
      "outputs": [
        {
          "output_type": "stream",
          "name": "stdout",
          "text": [
            "{1, 2, 4, 5, 'was_the_middle', 'was_the_end'}\n"
          ]
        }
      ]
    },
    {
      "cell_type": "code",
      "source": [
        "n_set.remove(4) #this is removing an element from the set\n",
        "print(n_set)"
      ],
      "metadata": {
        "colab": {
          "base_uri": "https://localhost:8080/"
        },
        "id": "L_qV2TSS6TI1",
        "outputId": "beea3c10-aefb-4d38-f431-e3fd3d8a27ca"
      },
      "execution_count": null,
      "outputs": [
        {
          "output_type": "stream",
          "name": "stdout",
          "text": [
            "{1, 2, 5, 'was_the_middle', 'was_the_end'}\n"
          ]
        }
      ]
    },
    {
      "cell_type": "code",
      "source": [
        "n_set.pop() #this is removing an arbitrary element from the set.\n",
        "print(n_set)"
      ],
      "metadata": {
        "colab": {
          "base_uri": "https://localhost:8080/"
        },
        "id": "gXLEVCeL6Zfr",
        "outputId": "178e9aa2-bf05-4301-feb8-6c8471c62798"
      },
      "execution_count": null,
      "outputs": [
        {
          "output_type": "stream",
          "name": "stdout",
          "text": [
            "{2, 5, 'was_the_middle', 'was_the_end'}\n"
          ]
        }
      ]
    },
    {
      "cell_type": "code",
      "source": [
        "m_set = {1, 2, 3, 4, 5}\n",
        "n_set.union(m_set) #this is combining two sets"
      ],
      "metadata": {
        "colab": {
          "base_uri": "https://localhost:8080/"
        },
        "id": "cYB6c4Sp6eVq",
        "outputId": "7ffb729f-726c-494f-ead3-e7345c542c6d"
      },
      "execution_count": null,
      "outputs": [
        {
          "output_type": "execute_result",
          "data": {
            "text/plain": [
              "{1, 2, 3, 4, 5, 'was_the_end', 'was_the_middle'}"
            ]
          },
          "metadata": {},
          "execution_count": 71
        }
      ]
    },
    {
      "cell_type": "code",
      "source": [
        "common_set = n_set.intersection(m_set) #this is getting the common elements between two sets\n",
        "print(common_set)"
      ],
      "metadata": {
        "colab": {
          "base_uri": "https://localhost:8080/"
        },
        "id": "FpEqs6Bl64Ip",
        "outputId": "498464f3-3c4a-48c9-d20b-ab807dcd7960"
      },
      "execution_count": null,
      "outputs": [
        {
          "output_type": "stream",
          "name": "stdout",
          "text": [
            "{2, 5}\n"
          ]
        }
      ]
    },
    {
      "cell_type": "code",
      "source": [
        "difference_srt = n_set.difference(m_set) #this is getting the difference between two sets\n",
        "print(difference_srt)"
      ],
      "metadata": {
        "colab": {
          "base_uri": "https://localhost:8080/"
        },
        "id": "7zji2zAZ7lme",
        "outputId": "cc8f33be-f442-40de-8e03-579b9342a1c2"
      },
      "execution_count": null,
      "outputs": [
        {
          "output_type": "stream",
          "name": "stdout",
          "text": [
            "{'was_the_middle', 'was_the_end'}\n"
          ]
        }
      ]
    },
    {
      "cell_type": "code",
      "source": [
        "n_set.issubset(m_set) #this is checking if one set is a subset of another set"
      ],
      "metadata": {
        "colab": {
          "base_uri": "https://localhost:8080/"
        },
        "id": "7yTIM8oC7p-f",
        "outputId": "2058cb67-063e-4ef2-b0f4-e7c36de50a4d"
      },
      "execution_count": null,
      "outputs": [
        {
          "output_type": "execute_result",
          "data": {
            "text/plain": [
              "False"
            ]
          },
          "metadata": {},
          "execution_count": 74
        }
      ]
    },
    {
      "cell_type": "code",
      "source": [
        "n_set.issuperset(m_set) #this is checking if one set is a superset of another set"
      ],
      "metadata": {
        "colab": {
          "base_uri": "https://localhost:8080/"
        },
        "id": "ZhxQ2VRL71nE",
        "outputId": "afcee03a-3a38-47ed-dc2a-55daf0b35910"
      },
      "execution_count": null,
      "outputs": [
        {
          "output_type": "execute_result",
          "data": {
            "text/plain": [
              "False"
            ]
          },
          "metadata": {},
          "execution_count": 75
        }
      ]
    },
    {
      "cell_type": "markdown",
      "source": [
        "# **Dictionaries**"
      ],
      "metadata": {
        "id": "bK_BcD5Z8MSc"
      }
    },
    {
      "cell_type": "markdown",
      "source": [
        "In Python, a **dictionary** is unordered collection of data values. They contain both keys and values, the keys cannot be changed and they are also unique. The values however can be changed and can have duplicates. We use a particular key to access a particular value.\n",
        "\n",
        "Dictionaries are very flexible and is great for creating structured data. The following shows how dictionaries are used, and the different modes that manipulate them!"
      ],
      "metadata": {
        "id": "SmKxAFdD0eAC"
      }
    },
    {
      "cell_type": "markdown",
      "source": [
        "How to create a dictionary"
      ],
      "metadata": {
        "id": "njHD2W9OVxf6"
      }
    },
    {
      "cell_type": "code",
      "source": [
        "#creating a dictionary\n",
        "\n",
        "dictionary_a = {\n",
        "    \"name\" : \"Degnan\",\n",
        "    \"age\" : 26,\n",
        "    \"is_mathematician\" : True,\n",
        "    \"favorite_colour\" : \"white\"\n",
        "}\n",
        "\n",
        "print(dictionary_a)"
      ],
      "metadata": {
        "id": "6Jqx8_Ft8O2E",
        "colab": {
          "base_uri": "https://localhost:8080/"
        },
        "outputId": "93117e87-c6d8-4473-eee8-9b9b1a1382b5"
      },
      "execution_count": null,
      "outputs": [
        {
          "output_type": "stream",
          "name": "stdout",
          "text": [
            "{'name': 'Degnan', 'age': 26, 'is_mathematician': True, 'favorite_colour': 'white'}\n"
          ]
        }
      ]
    },
    {
      "cell_type": "markdown",
      "source": [
        "An alternative way of creating a dictionary."
      ],
      "metadata": {
        "id": "JbdOM0uIV6Lb"
      }
    },
    {
      "cell_type": "code",
      "source": [
        "#alternate dictionary creation\n",
        "\n",
        "dictionary_b = dict(name = \"Degnan\", age = 26, is_mathematician = True, favorite_colour = \"white\")\n",
        "\n",
        "print(dictionary_b)"
      ],
      "metadata": {
        "colab": {
          "base_uri": "https://localhost:8080/"
        },
        "id": "0S1567hh2xi8",
        "outputId": "f33fc01d-beca-4caa-a999-a23f6499d06f"
      },
      "execution_count": null,
      "outputs": [
        {
          "output_type": "stream",
          "name": "stdout",
          "text": [
            "{'name': 'Degnan', 'age': 26, 'is_mathematician': True, 'favorite_colour': 'white'}\n"
          ]
        }
      ]
    },
    {
      "cell_type": "markdown",
      "source": [
        "How to access different values within a dictionary according to their keys."
      ],
      "metadata": {
        "id": "GgCguXa3V_N7"
      }
    },
    {
      "cell_type": "code",
      "source": [
        "#how to access values according to their keys\n",
        "\n",
        "print(dictionary_b[\"name\"])\n",
        "print(dictionary_b[\"age\"])"
      ],
      "metadata": {
        "colab": {
          "base_uri": "https://localhost:8080/"
        },
        "id": "nWMk6z4e2-Ju",
        "outputId": "ed659b8e-9bb5-461a-a41a-1b5e1e11e6f8"
      },
      "execution_count": null,
      "outputs": [
        {
          "output_type": "stream",
          "name": "stdout",
          "text": [
            "Degnan\n",
            "26\n"
          ]
        }
      ]
    },
    {
      "cell_type": "code",
      "source": [
        "#similarily you can used the get() function\n",
        "\n",
        "print(dictionary_b.get(\"name\"))\n",
        "print(dictionary_b.get(\"age\"))"
      ],
      "metadata": {
        "colab": {
          "base_uri": "https://localhost:8080/"
        },
        "id": "jJ1sVEn13Nd3",
        "outputId": "ee48bba6-9f33-45ad-89a7-6c6cfb3f4f23"
      },
      "execution_count": null,
      "outputs": [
        {
          "output_type": "stream",
          "name": "stdout",
          "text": [
            "Degnan\n",
            "26\n"
          ]
        }
      ]
    },
    {
      "cell_type": "markdown",
      "source": [
        "This is how you can display keys within a dictionary"
      ],
      "metadata": {
        "id": "R0KEgIvAWGWj"
      }
    },
    {
      "cell_type": "code",
      "source": [
        "#displaying the keys to a dictionary\n",
        "\n",
        "print(dictionary_a.keys())"
      ],
      "metadata": {
        "colab": {
          "base_uri": "https://localhost:8080/"
        },
        "id": "-sWlOKf33liX",
        "outputId": "dfb4710f-c6b5-4a6b-83a2-5362acba8870"
      },
      "execution_count": null,
      "outputs": [
        {
          "output_type": "stream",
          "name": "stdout",
          "text": [
            "dict_keys(['name', 'age', 'is_mathematician', 'favorite_colour'])\n"
          ]
        }
      ]
    },
    {
      "cell_type": "markdown",
      "source": [
        "Similarily this is how you can display the values"
      ],
      "metadata": {
        "id": "Sw0_R4o1W8Te"
      }
    },
    {
      "cell_type": "code",
      "source": [
        "#displaying the values to a dictionary\n",
        "\n",
        "print(dictionary_a.values())"
      ],
      "metadata": {
        "colab": {
          "base_uri": "https://localhost:8080/"
        },
        "id": "BIQ-iLzT3rBu",
        "outputId": "c0d8ef10-6f13-416e-9082-24741ccbb55e"
      },
      "execution_count": null,
      "outputs": [
        {
          "output_type": "stream",
          "name": "stdout",
          "text": [
            "dict_values(['Degnan', 26, True, 'white'])\n"
          ]
        }
      ]
    },
    {
      "cell_type": "markdown",
      "source": [
        "Displaying the pairs concerning the key and its corresponding value can be done using the items() method."
      ],
      "metadata": {
        "id": "eEOaBWyaXhM3"
      }
    },
    {
      "cell_type": "code",
      "source": [
        "#using items(), you can also get the key-value pairs\n",
        "\n",
        "print(dictionary_a.items())"
      ],
      "metadata": {
        "colab": {
          "base_uri": "https://localhost:8080/"
        },
        "id": "RNaWlxkA3xK4",
        "outputId": "fb0651a4-ec29-42a6-be2b-81c0ebd1191e"
      },
      "execution_count": null,
      "outputs": [
        {
          "output_type": "stream",
          "name": "stdout",
          "text": [
            "dict_items([('name', 'Degnan'), ('age', 26), ('is_mathematician', True), ('favorite_colour', 'white')])\n"
          ]
        }
      ]
    },
    {
      "cell_type": "markdown",
      "source": [
        "You can add or update a dictionary using the update() method."
      ],
      "metadata": {
        "id": "ZYTHaFLRXo-X"
      }
    },
    {
      "cell_type": "code",
      "source": [
        "#update a dictionary by using the update() function\n",
        "\n",
        "dictionary_a.update({\"nationality\" : \"American\"})\n",
        "print(dictionary_a)"
      ],
      "metadata": {
        "colab": {
          "base_uri": "https://localhost:8080/"
        },
        "id": "jMNwXwge34om",
        "outputId": "6f7983df-b46e-46ef-f59f-bb9894a4c7aa"
      },
      "execution_count": null,
      "outputs": [
        {
          "output_type": "stream",
          "name": "stdout",
          "text": [
            "{'name': 'Degnan', 'age': 26, 'is_mathematician': True, 'favorite_colour': 'white', 'nationality': 'American'}\n"
          ]
        }
      ]
    },
    {
      "cell_type": "markdown",
      "source": [
        "Using the pop() method removes the value of the specified key."
      ],
      "metadata": {
        "id": "bEeRRmnEXxu3"
      }
    },
    {
      "cell_type": "code",
      "source": [
        "#the pop() removes and return the value of the specified key\n",
        "\n",
        "print(dictionary_a.pop(\"nationality\"))\n",
        "print(dictionary_a)"
      ],
      "metadata": {
        "colab": {
          "base_uri": "https://localhost:8080/"
        },
        "id": "VBeo8cdr4QCo",
        "outputId": "4e5c3d53-a2ed-4415-f2a5-391e757c146c"
      },
      "execution_count": null,
      "outputs": [
        {
          "output_type": "stream",
          "name": "stdout",
          "text": [
            "American\n",
            "{'name': 'Degnan', 'age': 26, 'is_mathematician': True, 'favorite_colour': 'white'}\n"
          ]
        }
      ]
    },
    {
      "cell_type": "markdown",
      "source": [
        "By using popitem(), you can remove the last item within a dictionary."
      ],
      "metadata": {
        "id": "T-KjNv9EX7Hd"
      }
    },
    {
      "cell_type": "code",
      "source": [
        "#using popitem() you can remove the last item in the dictionary\n",
        "\n",
        "print(dictionary_a.popitem())\n",
        "print(dictionary_a)"
      ],
      "metadata": {
        "colab": {
          "base_uri": "https://localhost:8080/"
        },
        "id": "DZu-qtD54gnK",
        "outputId": "6cbd726c-7dcd-432a-b2fb-6d26c572ce92"
      },
      "execution_count": null,
      "outputs": [
        {
          "output_type": "stream",
          "name": "stdout",
          "text": [
            "('favorite_colour', 'white')\n",
            "{'name': 'Degnan', 'age': 26, 'is_mathematician': True}\n"
          ]
        }
      ]
    },
    {
      "cell_type": "markdown",
      "source": [
        "You can use setdefault to add another pair within your dictionary or to return a value."
      ],
      "metadata": {
        "id": "3bH5WDJ3YAuH"
      }
    },
    {
      "cell_type": "code",
      "source": [
        "#by using setdefault() you can return the value, if not it will add the key with the specified value\n",
        "\n",
        "print(dictionary_a.setdefault(\"name\", \"Degnan\"))\n",
        "\n",
        "dictionary_a.setdefault(\"favorite_math_topic\", \"sequential_analysis\")\n",
        "print(dictionary_a)"
      ],
      "metadata": {
        "colab": {
          "base_uri": "https://localhost:8080/"
        },
        "id": "SzV7tqVE5LOI",
        "outputId": "93a4bc2c-5cef-4740-b0c4-e6a2d7f6c631"
      },
      "execution_count": null,
      "outputs": [
        {
          "output_type": "stream",
          "name": "stdout",
          "text": [
            "Degnan\n",
            "{'name': 'Degnan', 'age': 26, 'is_mathematician': True, 'favorite_math_topic': 'sequential_analysis'}\n"
          ]
        }
      ]
    },
    {
      "cell_type": "markdown",
      "source": [
        "A shallow copy of a dictionary can also be made using the copy() method."
      ],
      "metadata": {
        "id": "SLWLqMazYP2f"
      }
    },
    {
      "cell_type": "code",
      "source": [
        "#create copies by using the copy() function\n",
        "\n",
        "dictionary_c = dictionary_a.copy()\n",
        "print(dictionary_c)"
      ],
      "metadata": {
        "colab": {
          "base_uri": "https://localhost:8080/"
        },
        "id": "qshLoYR95x3D",
        "outputId": "c982c2b3-becf-4ba7-a83f-e7b4d2976482"
      },
      "execution_count": null,
      "outputs": [
        {
          "output_type": "stream",
          "name": "stdout",
          "text": [
            "{'name': 'Degnan', 'age': 26, 'is_mathematician': True, 'favorite_math_topic': 'sequential_analysis', 'zodiac_sign': 'Leo'}\n"
          ]
        }
      ]
    },
    {
      "cell_type": "markdown",
      "source": [
        "Other than the setdefault(), this is the more common way adding a new key-value pair in a dictionary."
      ],
      "metadata": {
        "id": "XwXGE2ToYZvv"
      }
    },
    {
      "cell_type": "code",
      "source": [
        "#you can also add keys the common way\n",
        "\n",
        "dictionary_a[\"zodiac_sign\"] = \"Leo\"\n",
        "print(dictionary_a)"
      ],
      "metadata": {
        "colab": {
          "base_uri": "https://localhost:8080/"
        },
        "id": "5ZrAvkg055wJ",
        "outputId": "55913603-2c50-499e-d290-b202274cd2e6"
      },
      "execution_count": null,
      "outputs": [
        {
          "output_type": "stream",
          "name": "stdout",
          "text": [
            "{'name': 'Degnan', 'age': 26, 'is_mathematician': True, 'favorite_math_topic': 'sequential_analysis', 'zodiac_sign': 'Leo'}\n"
          ]
        }
      ]
    },
    {
      "cell_type": "markdown",
      "source": [
        "Use *in* to check if a particular key exists within a dictionary."
      ],
      "metadata": {
        "id": "RN7di2BMYiqG"
      }
    },
    {
      "cell_type": "code",
      "source": [
        "#checking for keys\n",
        "\n",
        "\"zodiac_sign\" in dictionary_a"
      ],
      "metadata": {
        "colab": {
          "base_uri": "https://localhost:8080/"
        },
        "id": "f29ItzOB6Hde",
        "outputId": "2d0e6d62-1e3b-4e16-ca7d-950601038237"
      },
      "execution_count": null,
      "outputs": [
        {
          "output_type": "execute_result",
          "data": {
            "text/plain": [
              "True"
            ]
          },
          "metadata": {},
          "execution_count": 90
        }
      ]
    },
    {
      "cell_type": "markdown",
      "source": [
        "*Bonus: Looping through dictionary*"
      ],
      "metadata": {
        "id": "rNT2S3wp6Voz"
      }
    },
    {
      "cell_type": "code",
      "source": [
        "print(\"Keys within Dictionary A\")\n",
        "for keys in dictionary_a:\n",
        "  print(keys)\n",
        "\n",
        "print()\n",
        "\n",
        "print(\"Keys within Dictionary A\")\n",
        "for values in dictionary_a:\n",
        "  print(dictionary_a[values])\n",
        "\n",
        "print()\n",
        "\n",
        "print(\"Key and Values Pair in Dictionary A\")\n",
        "\n",
        "for key, value in dictionary_a.items():\n",
        "  print(key, value)"
      ],
      "metadata": {
        "colab": {
          "base_uri": "https://localhost:8080/"
        },
        "id": "ofT_Brfr6jjE",
        "outputId": "503af29e-609a-4388-cade-4015adb3b8d7"
      },
      "execution_count": null,
      "outputs": [
        {
          "output_type": "stream",
          "name": "stdout",
          "text": [
            "Keys within Dictionary A\n",
            "name\n",
            "age\n",
            "is_mathematician\n",
            "favorite_math_topic\n",
            "zodiac_sign\n",
            "\n",
            "Keys within Dictionary A\n",
            "Degnan\n",
            "26\n",
            "True\n",
            "sequential_analysis\n",
            "Leo\n",
            "\n",
            "Key and Values Pair in Dictionary A\n",
            "name Degnan\n",
            "age 26\n",
            "is_mathematician True\n",
            "favorite_math_topic sequential_analysis\n",
            "zodiac_sign Leo\n"
          ]
        }
      ]
    },
    {
      "cell_type": "markdown",
      "source": [
        "# **Conditional Statements**"
      ],
      "metadata": {
        "id": "Zh8hgxcS7hhs"
      }
    },
    {
      "cell_type": "markdown",
      "source": [
        "In Python, there are logical conditional statements, which allows us to have a control of the flow of implemented program, conditional statements give us access to execute a block of code, given that a condition is true. If it is not true, then it will not execute the block of code.\n",
        "\n",
        "The main keys that make conditional statements is **if**, **elif**, and **else**."
      ],
      "metadata": {
        "id": "A5tgtvPfG9dO"
      }
    },
    {
      "cell_type": "code",
      "source": [
        "x = 10\n",
        "\n",
        "if x < 15: #check if x is less than 15 then print the following:\n",
        "  print(\"x is less than 15\")\n",
        "elif x > 15: #else if is greater than 15 then print the following:\n",
        "  print(\"x is greater than 15\")\n",
        "else:\n",
        "  print(\"x is neither greater nor less than 15.\")"
      ],
      "metadata": {
        "colab": {
          "base_uri": "https://localhost:8080/"
        },
        "id": "PQbV1kkk7k3z",
        "outputId": "8331ceee-9152-48c7-d682-1c41b78be05e"
      },
      "execution_count": null,
      "outputs": [
        {
          "output_type": "stream",
          "name": "stdout",
          "text": [
            "x is less than 15\n"
          ]
        }
      ]
    },
    {
      "cell_type": "markdown",
      "source": [
        "**Nested if-statements**\n",
        "\n",
        "You can do nested if-statements in order to run multiple conditions and to create a complex flow."
      ],
      "metadata": {
        "id": "lZNzQzXtJPPg"
      }
    },
    {
      "cell_type": "code",
      "source": [
        "name = \"Mr. Kopa\"\n",
        "\n",
        "if name == \"Mr. Kopa\":\n",
        " if len(name) % 2 == 0: #modulus gives us the remainder of 1 in this case\n",
        "  print(\"The name is Mr. Kopa and the length is even!\")\n",
        "else:\n",
        "   print(\"The name is Mr. Kopa and the length is odd\")"
      ],
      "metadata": {
        "colab": {
          "base_uri": "https://localhost:8080/"
        },
        "id": "LcQFDfFFIyww",
        "outputId": "cca3fb7b-a576-49b6-e014-9d94a5f8b35c"
      },
      "execution_count": null,
      "outputs": [
        {
          "output_type": "stream",
          "name": "stdout",
          "text": [
            "The name is Mr. Kopa and the length is even!\n"
          ]
        }
      ]
    },
    {
      "cell_type": "markdown",
      "source": [
        "*Tenary Operator*: A short handed way of doing conditional statements."
      ],
      "metadata": {
        "id": "5IU47uQdNWzf"
      }
    },
    {
      "cell_type": "code",
      "source": [
        "capricorn_crush = \"Kia\"\n",
        "\n",
        "\"I have a crush on a Capricorn woman but I'm scared I might get heart broken!\" if capricorn_crush == \"Kia\" else \"I don't have a crush on a girl name Kia.\""
      ],
      "metadata": {
        "colab": {
          "base_uri": "https://localhost:8080/",
          "height": 36
        },
        "id": "vbRcoz4cK29b",
        "outputId": "0c49c3ad-57b1-4bf6-cafc-3a70c3366f72"
      },
      "execution_count": null,
      "outputs": [
        {
          "output_type": "execute_result",
          "data": {
            "text/plain": [
              "\"I have a crush on a Capricorn woman but I'm scared I might get heart broken!\""
            ],
            "application/vnd.google.colaboratory.intrinsic+json": {
              "type": "string"
            }
          },
          "metadata": {},
          "execution_count": 103
        }
      ]
    },
    {
      "cell_type": "markdown",
      "source": [
        "There are logical operators such as *AND*, *OR*, and *NOT* which can be used in conditional statement to check statements or to see if they are valid or not."
      ],
      "metadata": {
        "id": "UJHkT6pkOiVA"
      }
    },
    {
      "cell_type": "code",
      "source": [
        "blanco = \"white\"\n",
        "cafe = \"brown\"\n",
        "\n",
        "if blanco == \"white\" and cafe == \"brown\":\n",
        "  print(\"Blanco is white and cafe is brown\")\n",
        "\n",
        "if blanco == \"white\" or cafe == \"brown\":\n",
        "  print(\"Blanco is white or cafe is brown\")\n",
        "\n",
        "if not blanco == \"black\":\n",
        "  print(\"Blanco is not black\")"
      ],
      "metadata": {
        "colab": {
          "base_uri": "https://localhost:8080/"
        },
        "id": "EHldmJ1eTjom",
        "outputId": "bb95c1cf-c65f-42ae-859a-73668c768928"
      },
      "execution_count": null,
      "outputs": [
        {
          "output_type": "stream",
          "name": "stdout",
          "text": [
            "Blanco is white and cafe is brown\n",
            "Blanco is white or cafe is brown\n",
            "Blanco is not black\n"
          ]
        }
      ]
    },
    {
      "cell_type": "code",
      "source": [],
      "metadata": {
        "id": "brh7aYVQT38n"
      },
      "execution_count": null,
      "outputs": []
    },
    {
      "cell_type": "markdown",
      "source": [
        "The **pass** keyword can be used to fill in a space for an block of empty space where the code will be added later"
      ],
      "metadata": {
        "id": "9xf9HNDHT4f3"
      }
    },
    {
      "cell_type": "code",
      "source": [
        "if blanco == \"white\":\n",
        "  pass\n",
        "else:\n",
        "    print(\"The pass keyword worked that's why I didn't run!\")"
      ],
      "metadata": {
        "id": "CZPbxwheUUk9"
      },
      "execution_count": null,
      "outputs": []
    },
    {
      "cell_type": "markdown",
      "source": [
        "The **in** keyword can be used to check if an element in a list, tuple, or set."
      ],
      "metadata": {
        "id": "XbMvVEMYUtyh"
      }
    },
    {
      "cell_type": "code",
      "source": [
        "sweets = [\"ice_cream\", \"cookies\", \"cake\"]\n",
        "\n",
        "if \"cake\" in sweets:\n",
        "  print(\"The cake is real!\")"
      ],
      "metadata": {
        "colab": {
          "base_uri": "https://localhost:8080/"
        },
        "id": "2mU87dGSUb5a",
        "outputId": "0496d5e9-f47f-4a2a-995e-805c1e93ddbb"
      },
      "execution_count": null,
      "outputs": [
        {
          "output_type": "stream",
          "name": "stdout",
          "text": [
            "The cake is real!\n"
          ]
        }
      ]
    },
    {
      "cell_type": "code",
      "source": [
        "x = 90\n",
        "\n",
        "if 95 > x > 85:\n",
        "  print(\"x is greater than 85 but less than 100\")"
      ],
      "metadata": {
        "colab": {
          "base_uri": "https://localhost:8080/"
        },
        "id": "LTozeEDKU-lk",
        "outputId": "bcaafd29-b0e7-408c-8d39-0a1b9e7215e9"
      },
      "execution_count": null,
      "outputs": [
        {
          "output_type": "stream",
          "name": "stdout",
          "text": [
            "x is greater than 85 but less than 100\n"
          ]
        }
      ]
    },
    {
      "cell_type": "markdown",
      "source": [
        "# **Looping Statement**"
      ],
      "metadata": {
        "id": "8jlIW7nbtcw_"
      }
    },
    {
      "cell_type": "markdown",
      "source": [
        "In Python, when we want to repeatedly execute a block of code, we use *loops*, and this can happen as long as a condition is being met. There are 2 types of loops, that is **for** loops and **while** loops. The following are demonstrations of it different usages."
      ],
      "metadata": {
        "id": "fYbwu4cIwNha"
      }
    },
    {
      "cell_type": "markdown",
      "source": [
        "**For** loops are used to iterate over a sequence such a list, tuple, or set. It will repeat an execution for each of the item that exists within the sequence."
      ],
      "metadata": {
        "id": "70qPd6G5zRta"
      }
    },
    {
      "cell_type": "code",
      "source": [
        "traits_of_strength = ['Confidence', 'Will', 'Charisma', 'Purpose', 'Determination']\n",
        "\n",
        "for trait in traits_of_strength:\n",
        "  print(trait)"
      ],
      "metadata": {
        "colab": {
          "base_uri": "https://localhost:8080/"
        },
        "id": "-eZmrIE5th5L",
        "outputId": "1841b757-f332-4700-a5f7-216444e27339"
      },
      "execution_count": null,
      "outputs": [
        {
          "output_type": "stream",
          "name": "stdout",
          "text": [
            "Confidence\n",
            "Will\n",
            "Charisma\n",
            "Purpose\n",
            "Determination\n"
          ]
        }
      ]
    },
    {
      "cell_type": "markdown",
      "source": [
        "**While** loops continues to execute a block of code as long as a condition is held on as true!"
      ],
      "metadata": {
        "id": "bxypLAK70oJh"
      }
    },
    {
      "cell_type": "code",
      "source": [
        "adonai_exist = True\n",
        "i = 1\n",
        "\n",
        "while adonai_exist:\n",
        "  print(\"Adonai is still alive!\")\n",
        "  i += 1\n",
        "  if i == 10:\n",
        "    print(\"Ending the loop.\")\n",
        "    break"
      ],
      "metadata": {
        "colab": {
          "base_uri": "https://localhost:8080/"
        },
        "id": "C8LITqFvy6Yi",
        "outputId": "3527afce-9be7-4715-adf1-706149e7d8d7"
      },
      "execution_count": null,
      "outputs": [
        {
          "output_type": "stream",
          "name": "stdout",
          "text": [
            "Adonai is still alive!\n",
            "Adonai is still alive!\n",
            "Adonai is still alive!\n",
            "Adonai is still alive!\n",
            "Adonai is still alive!\n",
            "Adonai is still alive!\n",
            "Adonai is still alive!\n",
            "Adonai is still alive!\n",
            "Adonai is still alive!\n",
            "Ending the loop.\n"
          ]
        }
      ]
    },
    {
      "cell_type": "markdown",
      "source": [
        "*You can use the **break** keyword to break out of loops as shown above.*"
      ],
      "metadata": {
        "id": "EK05q7fL1Gro"
      }
    },
    {
      "cell_type": "markdown",
      "source": [
        "You can construct nested loops when there is multidimensional data that needs to be manipulated or analyzed. A nested loop is a loop within a loop."
      ],
      "metadata": {
        "id": "8irbb9pT1WtB"
      }
    },
    {
      "cell_type": "code",
      "source": [
        "favorite_places = ['Africa', 'Japan']\n",
        "\n",
        "for place in favorite_places:\n",
        "  print()\n",
        "  for letter in place:\n",
        "    print(letter)\n",
        "\n",
        "print()\n",
        "\n",
        "for i in range(3):\n",
        "  for j in range(2):\n",
        "    print(f'i = {i} and j = {j}')"
      ],
      "metadata": {
        "colab": {
          "base_uri": "https://localhost:8080/"
        },
        "id": "vVb69A4M1LZT",
        "outputId": "7c3ac8d1-848d-4f6b-ae36-4ce0ac31cbf6"
      },
      "execution_count": null,
      "outputs": [
        {
          "output_type": "stream",
          "name": "stdout",
          "text": [
            "\n",
            "A\n",
            "f\n",
            "r\n",
            "i\n",
            "c\n",
            "a\n",
            "\n",
            "J\n",
            "a\n",
            "p\n",
            "a\n",
            "n\n",
            "\n",
            "i = 0 and j = 0\n",
            "i = 0 and j = 1\n",
            "i = 1 and j = 0\n",
            "i = 1 and j = 1\n",
            "i = 2 and j = 0\n",
            "i = 2 and j = 1\n"
          ]
        }
      ]
    },
    {
      "cell_type": "markdown",
      "source": [
        "# **List Comprehensions**\n",
        "\n"
      ],
      "metadata": {
        "id": "0BQ-0HC-4bJj"
      }
    },
    {
      "cell_type": "markdown",
      "source": [
        "List comprehension is a brief way of formulating a list in Python that uses a single line of code to make a list\n",
        "\n",
        "There are different ways of doing this and those are the following:\n",
        "\n",
        "1. **Basic List Comprehension**\n",
        "2. **List Comprehension with Condition (Filtering)**\n",
        "3. **List Comprehension with Operations**\n",
        "4. **List Comprehension with Nested Loops**\n",
        "5. **Using List Comprehension to Flatten a List of Lists**\n",
        "6. **List Comprehension with String Manipulation**\n",
        "\n"
      ],
      "metadata": {
        "id": "ygz8IF5dChQR"
      }
    },
    {
      "cell_type": "markdown",
      "source": [
        "**1. Basic List Comprehension**: This list comprehension will generate a list from 0 to 5."
      ],
      "metadata": {
        "id": "9UVCWvhl7sBX"
      }
    },
    {
      "cell_type": "code",
      "source": [
        "nums = [x for x in range(6)]\n",
        "display(nums)"
      ],
      "metadata": {
        "colab": {
          "base_uri": "https://localhost:8080/",
          "height": 34
        },
        "id": "-XltzR5H4dcz",
        "outputId": "b0f3b337-553a-44ce-e2b1-c7ce46f8036c"
      },
      "execution_count": null,
      "outputs": [
        {
          "output_type": "display_data",
          "data": {
            "text/plain": [
              "[0, 1, 2, 3, 4, 5]"
            ]
          },
          "metadata": {}
        }
      ]
    },
    {
      "cell_type": "markdown",
      "source": [
        "2. **List Comprehension with Condition (Filtering)**: This second list comprehension will generate a series of odd numbers from 1 to 9."
      ],
      "metadata": {
        "id": "vQifZkeI79jB"
      }
    },
    {
      "cell_type": "code",
      "source": [
        "odd_numbers = [x for x in range(10) if x % 2 == 1]\n",
        "display(odd_numbers)"
      ],
      "metadata": {
        "colab": {
          "base_uri": "https://localhost:8080/",
          "height": 34
        },
        "id": "L9Rz7J5W74ne",
        "outputId": "64991ff1-faa7-437a-961e-c3ea6750d7a6"
      },
      "execution_count": null,
      "outputs": [
        {
          "output_type": "display_data",
          "data": {
            "text/plain": [
              "[1, 3, 5, 7, 9]"
            ]
          },
          "metadata": {}
        }
      ]
    },
    {
      "cell_type": "markdown",
      "source": [
        "3. **List Comprehension with Operations**: This third list comprehension will generate a list of number but with a mathematical operation of multiplication being done to it."
      ],
      "metadata": {
        "id": "bAEsICDc9Csh"
      }
    },
    {
      "cell_type": "code",
      "source": [
        "multiplied_list = [x*2 for x in range(10)]\n",
        "display(multiplied_list)"
      ],
      "metadata": {
        "colab": {
          "base_uri": "https://localhost:8080/",
          "height": 34
        },
        "id": "zJU7pvn09nr0",
        "outputId": "67076b5a-de91-4bcf-eda7-1ddcefc258e1"
      },
      "execution_count": null,
      "outputs": [
        {
          "output_type": "display_data",
          "data": {
            "text/plain": [
              "[0, 2, 4, 6, 8, 10, 12, 14, 16, 18]"
            ]
          },
          "metadata": {}
        }
      ]
    },
    {
      "cell_type": "markdown",
      "source": [
        "4. **List Comprehension with Nested Loops**: The fourth list comprehension shows a nested loop but with a list comprehension in use."
      ],
      "metadata": {
        "id": "kQtjK72M-HDD"
      }
    },
    {
      "cell_type": "code",
      "source": [
        "nested_list = [[(A, B) for A in range(4) for B in range(3)]]\n",
        "display(nested_list)"
      ],
      "metadata": {
        "colab": {
          "base_uri": "https://localhost:8080/",
          "height": 225
        },
        "id": "w-VlEa9m-Hqr",
        "outputId": "06d35f1c-cf25-4717-cf68-d1fdd4a74003"
      },
      "execution_count": null,
      "outputs": [
        {
          "output_type": "display_data",
          "data": {
            "text/plain": [
              "[[(0, 0),\n",
              "  (0, 1),\n",
              "  (0, 2),\n",
              "  (1, 0),\n",
              "  (1, 1),\n",
              "  (1, 2),\n",
              "  (2, 0),\n",
              "  (2, 1),\n",
              "  (2, 2),\n",
              "  (3, 0),\n",
              "  (3, 1),\n",
              "  (3, 2)]]"
            ]
          },
          "metadata": {}
        }
      ]
    },
    {
      "cell_type": "markdown",
      "source": [
        "5. **Using List Comprehension to Flatten a List of Lists**: This fifth list comprehension style flattens a list of lists into a single list."
      ],
      "metadata": {
        "id": "LXaaeHmr_Y4E"
      }
    },
    {
      "cell_type": "code",
      "source": [
        "nested_list = [[1, 2, 3], [3, 2, 1], ['apples', 'bananas', 'grapes']]\n",
        "flatten_list = [[item for sub_item in nested_list for item in sub_item]]\n",
        "display(flatten_list)"
      ],
      "metadata": {
        "colab": {
          "base_uri": "https://localhost:8080/",
          "height": 34
        },
        "id": "O8IuFDC5_6wm",
        "outputId": "0842e18e-b18d-4353-8e59-0229d04b853f"
      },
      "execution_count": null,
      "outputs": [
        {
          "output_type": "display_data",
          "data": {
            "text/plain": [
              "[[1, 2, 3, 3, 2, 1, 'apples', 'bananas', 'grapes']]"
            ]
          },
          "metadata": {}
        }
      ]
    },
    {
      "cell_type": "markdown",
      "source": [
        "6. **List Comprehension Using String Manipulation**: The last list comprehension will create a list of each of the first letter in the given sentence."
      ],
      "metadata": {
        "id": "df9beC9GA3yg"
      }
    },
    {
      "cell_type": "code",
      "source": [
        "motivational_quote = \"I am of the conviction that the boldest measures are often the most safest.\"\n",
        "\n",
        "#display(motivation_quote.split())\n",
        "\n",
        "first_letters = [letter[0] for letter in motivational_quote.split()]\n",
        "display(first_letters)"
      ],
      "metadata": {
        "colab": {
          "base_uri": "https://localhost:8080/",
          "height": 34
        },
        "id": "cXMVxEAiBIPL",
        "outputId": "2507b993-16e5-457b-bc9a-828aaa8478d9"
      },
      "execution_count": null,
      "outputs": [
        {
          "output_type": "display_data",
          "data": {
            "text/plain": [
              "['I', 'a', 'o', 't', 'c', 't', 't', 'b', 'm', 'a', 'o', 't', 'm', 's']"
            ]
          },
          "metadata": {}
        }
      ]
    },
    {
      "cell_type": "markdown",
      "source": [
        "# **Functions**"
      ],
      "metadata": {
        "id": "JWi9meYqCmGK"
      }
    },
    {
      "cell_type": "markdown",
      "source": [
        "In Python, a **function** is a reusable block of code that is used in order to perform a specific task. Functions can receive inputs, they can process data, and return a result. They are mainly used for organization and re-usability.\n",
        "\n",
        "The components that make up a function are the following:\n",
        "\n",
        "\n",
        "*   1. **Defining a function:** You define a function by using the **def** keyword followed by the name of the function, then the parenthesis, and you close it with a colon.\n",
        "\n",
        "*   2. **Calling a function:**  By using the function name with the parathesis, you can call a function to run it.\n",
        "\n",
        "\n",
        "*   3. **Parathesis**: You can toss values or data into a function by inserting it into the parathesis. These values or data is called as arguments.\n",
        "\n",
        "*   4. **Return Value**: You can return a result by using the **return** keyword.\n",
        "\n",
        "The following are examples of functions with arguments and one without arguments:\n",
        "\n",
        "\n",
        "\n"
      ],
      "metadata": {
        "id": "KWPrp1byJimR"
      }
    },
    {
      "cell_type": "markdown",
      "source": [
        "**Function With Arguments**"
      ],
      "metadata": {
        "id": "FqgfQANALfb8"
      }
    },
    {
      "cell_type": "code",
      "source": [
        "def declaration():\n",
        "  print(\"Someone who wants to be a king must have poise and compassion.\")\n",
        "\n",
        "declaration()"
      ],
      "metadata": {
        "colab": {
          "base_uri": "https://localhost:8080/"
        },
        "id": "LmzSZT_uCohQ",
        "outputId": "fe60f26c-2cb5-4796-ae27-26a74bc4de7c"
      },
      "execution_count": null,
      "outputs": [
        {
          "output_type": "stream",
          "name": "stdout",
          "text": [
            "Someone who wants to be a king must have poise and compassion.\n"
          ]
        }
      ]
    },
    {
      "cell_type": "markdown",
      "source": [
        "**Function Without Arguments**"
      ],
      "metadata": {
        "id": "oRR2YIXtL0w0"
      }
    },
    {
      "cell_type": "code",
      "source": [
        "a = 10\n",
        "b = 20\n",
        "\n",
        "def add_numbers(a, b):\n",
        "  return a + b\n",
        "\n",
        "add_numbers(a, b)"
      ],
      "metadata": {
        "colab": {
          "base_uri": "https://localhost:8080/"
        },
        "id": "ossZalXiLx9c",
        "outputId": "df4363a8-778d-4c3d-acc7-1ed810066d3e"
      },
      "execution_count": null,
      "outputs": [
        {
          "output_type": "execute_result",
          "data": {
            "text/plain": [
              "30"
            ]
          },
          "metadata": {},
          "execution_count": 27
        }
      ]
    },
    {
      "cell_type": "markdown",
      "source": [
        "**Function Within a Function**"
      ],
      "metadata": {
        "id": "wFhrCU2LMUyT"
      }
    },
    {
      "cell_type": "code",
      "source": [
        "def outside_message(message):\n",
        "  def inner_message():\n",
        "    print(f'The inner message is: {message}')\n",
        "  inner_message()\n",
        "\n",
        "outside_message('This is the outside message.')"
      ],
      "metadata": {
        "colab": {
          "base_uri": "https://localhost:8080/"
        },
        "id": "LkbYD1fqMRYN",
        "outputId": "21b0587d-f88b-4f0c-91f7-e97b9d7e2361"
      },
      "execution_count": null,
      "outputs": [
        {
          "output_type": "stream",
          "name": "stdout",
          "text": [
            "The inner message is: This is the outside message.\n"
          ]
        }
      ]
    },
    {
      "cell_type": "markdown",
      "source": [
        "# **Args & Kwargs**"
      ],
      "metadata": {
        "id": "OSA8mFL5Nx89"
      }
    },
    {
      "cell_type": "markdown",
      "source": [
        "In Python, ***args** can be used when we want our function to accept a variable with positional arguments. Positional arguments are arguments that need to be included in the proper position or order. It is a way in which we can pass multiple arguments to a function without needing to define the number of parameters beforehand.\n",
        "\n",
        "***args** collects multiple positional arguments and passed them through the function as a tuple and it helpful when we dont know how many arguments will be needed to pass through a function.\n",
        "\n",
        "You should use ***args** when we wants to pass a variable number of arguments to a function, when creating functions that should work with a wide range of input size, and when designing APIs or libraries that need to handle different use cases. Here is an example of it's usage:"
      ],
      "metadata": {
        "id": "QY1H6_1E15zj"
      }
    },
    {
      "cell_type": "code",
      "source": [
        "def add_numbers(*args):\n",
        "  total = 0\n",
        "  for num in args:\n",
        "    total += num\n",
        "  return total\n",
        "\n",
        "add_numbers(1, 2, 3, 4, 5)"
      ],
      "metadata": {
        "colab": {
          "base_uri": "https://localhost:8080/"
        },
        "id": "A2DnB5-T3ZjJ",
        "outputId": "e794d490-0766-4726-8024-fdadc04899e9"
      },
      "execution_count": null,
      "outputs": [
        {
          "output_type": "execute_result",
          "data": {
            "text/plain": [
              "15"
            ]
          },
          "metadata": {},
          "execution_count": 1
        }
      ]
    },
    {
      "cell_type": "markdown",
      "source": [
        "***kwargs** is used when we want to pass a variable number of keyword arguments.  It allows us to handle arguments in the form of a dictionary, where the argument names are the keys, and their connected values are the values.\n",
        "\n",
        "It collects multiple keyword arguments into a dictions and is good to use when wwant a function that accepts a varying number of named parameters.\n",
        "\n",
        "Rule of Thumb: If you want to use ***args** and ***kwargs**, then ***kwargs after args is used.**\n",
        "\n",
        "If we want optional arguments in functions, we should use ***kwargs**\n",
        "\n",
        "Here is an example of its usage:"
      ],
      "metadata": {
        "id": "ktdI5LGhAvaD"
      }
    },
    {
      "cell_type": "code",
      "source": [
        "def mathematician_information(**kwargs):\n",
        "  for key, value in kwargs.items():\n",
        "    print(f'{key.capitalize()}: {value}')\n",
        "\n",
        "mathematician_information(name = \"Abraham Wald\", age = 24, contribution = \"Sequential Analysis\", division = \"NSA\")\n",
        "print()\n",
        "mathematician_information(name = \"Philip Morse\", age = 34, contribution = \"Morse Potential\")"
      ],
      "metadata": {
        "colab": {
          "base_uri": "https://localhost:8080/"
        },
        "id": "7O-nGlRn3edD",
        "outputId": "bf124577-ad1b-42ae-92c5-773434375841"
      },
      "execution_count": null,
      "outputs": [
        {
          "output_type": "stream",
          "name": "stdout",
          "text": [
            "Name: Abraham Wald\n",
            "Age: 24\n",
            "Contribution: Sequential Analysis\n",
            "Division: NSA\n",
            "\n",
            "Name: Philip Morse\n",
            "Age: 34\n",
            "Contribution: Morse Potential\n"
          ]
        }
      ]
    },
    {
      "cell_type": "markdown",
      "source": [
        "**Combining Kwargs and Args**"
      ],
      "metadata": {
        "id": "EcKueJLfC25_"
      }
    },
    {
      "cell_type": "code",
      "source": [
        "def display_data(*args, **kwargs):\n",
        "  print(\"Positional arguments: \", args)\n",
        "  print(\"Keyword arguments: \", kwargs)\n",
        "\n",
        "\n",
        "display_data(1, 2, 3, name=\"Dayon\", age = 26)"
      ],
      "metadata": {
        "colab": {
          "base_uri": "https://localhost:8080/"
        },
        "id": "gF92lMfbCvDf",
        "outputId": "aabbaf04-736a-4658-9f7c-31acef00312f"
      },
      "execution_count": null,
      "outputs": [
        {
          "output_type": "stream",
          "name": "stdout",
          "text": [
            "Positional arguments:  (1, 2, 3)\n",
            "Keyword arguments:  {'name': 'Dayon', 'age': 26}\n"
          ]
        }
      ]
    },
    {
      "cell_type": "markdown",
      "source": [
        "# **Lamda Functions**"
      ],
      "metadata": {
        "id": "wFqPe8QTFIGf"
      }
    },
    {
      "cell_type": "markdown",
      "source": [
        "Lastly, we will be discussing about Lamda functions which are small anonymous functions that is defined by using the lamda keyword. Different than the normal *def* keyword that is used in normal function, lamda functions are a single expression that doesn't require a name.\n",
        "\n",
        "We use lambda function when we need a quick function for a short period of time without the need for a full function.\n",
        "\n",
        "*SYNTAX::*  **lambda** arguments: expression\n",
        "\n",
        "Arguments is any value or piece of information, and expression is what is to be evaluated and returned. Here are a couple of examples of the uses of lambda function.\n",
        "\n",
        "1. **Lambda for a Simple Operation**\n",
        "2. **Lambda in map() Function**\n",
        "3. **Lambda in filter() Function**\n",
        "4. **Lambda in sorted() Function**\n",
        "5. **Lambda for Multiple Conditions**"
      ],
      "metadata": {
        "id": "J4vyfMQ-eX7x"
      }
    },
    {
      "cell_type": "markdown",
      "source": [
        "1. **Lambda for Simple Operation:** This lambda function will add two numbers together."
      ],
      "metadata": {
        "id": "-OUlrkSagl8X"
      }
    },
    {
      "cell_type": "code",
      "source": [
        "add_numbers = lambda a, b: a + b\n",
        "add_numbers(10, 20)"
      ],
      "metadata": {
        "colab": {
          "base_uri": "https://localhost:8080/"
        },
        "id": "QPCz2MKKeGQz",
        "outputId": "cb6614d4-eff2-4347-a583-5e9c5fdffa33"
      },
      "execution_count": 7,
      "outputs": [
        {
          "output_type": "execute_result",
          "data": {
            "text/plain": [
              "30"
            ]
          },
          "metadata": {},
          "execution_count": 7
        }
      ]
    },
    {
      "cell_type": "markdown",
      "source": [
        "2. **Lambda in map() Function**: The map() will apply a function to all the items in an iterable (like a list). We can quickly define a mathematical operation using lambda inside the map() function."
      ],
      "metadata": {
        "id": "cFV8UHSdgzKM"
      }
    },
    {
      "cell_type": "code",
      "source": [
        "numbers = [1, 2, 3, 4, 5]\n",
        "\n",
        "squared_numbers = list(map(lambda x: x**2, numbers))\n",
        "display(squared_numbers)"
      ],
      "metadata": {
        "colab": {
          "base_uri": "https://localhost:8080/",
          "height": 34
        },
        "id": "HejfxYsbgxSS",
        "outputId": "2cf22a59-c05a-447a-92a1-02c538ce2758"
      },
      "execution_count": 13,
      "outputs": [
        {
          "output_type": "display_data",
          "data": {
            "text/plain": [
              "[1, 4, 9, 16, 25]"
            ]
          },
          "metadata": {}
        }
      ]
    },
    {
      "cell_type": "markdown",
      "source": [
        "3. **Lambda in filter() Function**: The filter() function allows us to filter element from an iterable while a condition is given, a lambda function can define the condition inline."
      ],
      "metadata": {
        "id": "vyS0Txy1hqVf"
      }
    },
    {
      "cell_type": "code",
      "source": [
        "numbers = [10, 11, 13, 19, 20]\n",
        "\n",
        "odd_numbers = list(filter(lambda x: x % 2 == 1, numbers))\n",
        "display(odd_numbers)"
      ],
      "metadata": {
        "colab": {
          "base_uri": "https://localhost:8080/",
          "height": 34
        },
        "id": "F8n6kOo3hWfu",
        "outputId": "9e9da24c-a2da-4d24-e40d-cbc3fc61b885"
      },
      "execution_count": 12,
      "outputs": [
        {
          "output_type": "display_data",
          "data": {
            "text/plain": [
              "[11, 13, 19]"
            ]
          },
          "metadata": {}
        }
      ]
    },
    {
      "cell_type": "markdown",
      "source": [
        "4. **Lambda in sorted() Function**: It is possible to use lambda in order to specify a custom sorting key. We will sort out a list of tuples."
      ],
      "metadata": {
        "id": "DEETJXmai1UZ"
      }
    },
    {
      "cell_type": "code",
      "source": [
        "pairs = [(1, 'one'), (3, 'three'), (2, 'two')]\n",
        "sorted_pairs = sorted(pairs, key=lambda pair: pair[1])\n",
        "print(sorted_pairs)\n"
      ],
      "metadata": {
        "colab": {
          "base_uri": "https://localhost:8080/"
        },
        "id": "q5jSBrG8iOTK",
        "outputId": "35368436-4457-41a7-b630-6a0cf94aaf2f"
      },
      "execution_count": 19,
      "outputs": [
        {
          "output_type": "stream",
          "name": "stdout",
          "text": [
            "[(1, 'one'), (3, 'three'), (2, 'two')]\n"
          ]
        }
      ]
    },
    {
      "cell_type": "markdown",
      "source": [
        "5. **Lambda for Multiple Conditions**: For times of quick decisions is needed or multiple conditions."
      ],
      "metadata": {
        "id": "jsRnjH3LlEKs"
      }
    },
    {
      "cell_type": "code",
      "source": [
        "max_value = lambda x, y: x if x > y else y\n",
        "x = 100\n",
        "y = 500\n",
        "\n",
        "max_value(x, y)"
      ],
      "metadata": {
        "colab": {
          "base_uri": "https://localhost:8080/"
        },
        "id": "SSxoL_lnjhJt",
        "outputId": "c74d05c2-04ef-4c73-b6e2-24094e6678b9"
      },
      "execution_count": 21,
      "outputs": [
        {
          "output_type": "execute_result",
          "data": {
            "text/plain": [
              "500"
            ]
          },
          "metadata": {},
          "execution_count": 21
        }
      ]
    },
    {
      "cell_type": "markdown",
      "source": [
        "*You should use lambda functions when short function defintion is needed for quick use and to avoid function clutter.*"
      ],
      "metadata": {
        "id": "nyWgiKqvl8h1"
      }
    }
  ]
}