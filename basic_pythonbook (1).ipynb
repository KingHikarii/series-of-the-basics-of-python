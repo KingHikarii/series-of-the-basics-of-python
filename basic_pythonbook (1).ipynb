{
  "nbformat": 4,
  "nbformat_minor": 0,
  "metadata": {
    "colab": {
      "provenance": [],
      "collapsed_sections": [
        "WBdvYvhKbWud",
        "rqmJMOlKo9av"
      ]
    },
    "kernelspec": {
      "name": "python3",
      "display_name": "Python 3"
    },
    "language_info": {
      "name": "python"
    }
  },
  "cells": [
    {
      "cell_type": "markdown",
      "source": [
        "# **Variables and Type Conversion**"
      ],
      "metadata": {
        "id": "WBdvYvhKbWud"
      }
    },
    {
      "cell_type": "markdown",
      "source": [
        "A variable is a container that can hold data, which will be stored within memory. This information can then be accessed and manipulated throughout our code. The following shows an example of a variable being declared using an **=** sign.\n",
        "\n",
        "We can use the print() method to display values of a variable or to show text."
      ],
      "metadata": {
        "id": "pjF9HGOojh7o"
      }
    },
    {
      "cell_type": "code",
      "source": [
        "x = 10\n",
        "name = \"Degnan\"\n",
        "pi = 3.14\n",
        "\n",
        "print(x)\n",
        "print(name)\n",
        "print(pi)"
      ],
      "metadata": {
        "colab": {
          "base_uri": "https://localhost:8080/"
        },
        "id": "M42kbo9ObZQk",
        "outputId": "c52695ff-0492-45a2-831e-ef2831c77027"
      },
      "execution_count": null,
      "outputs": [
        {
          "output_type": "stream",
          "name": "stdout",
          "text": [
            "10\n",
            "Degnan\n",
            "3.14\n"
          ]
        }
      ]
    },
    {
      "cell_type": "markdown",
      "source": [
        "**Types of Variables:**\n",
        "\n",
        "\n",
        "There are different types of variables in Python. These are the different types.\n",
        "\n",
        "*   Integer: A whole number can be stored.\n",
        "*   Float: A decimal number can be stored.\n",
        "*   String: Stores text, which is a series of characters.\n",
        "*   Boolean: *True* or *False* values are able to be stored."
      ],
      "metadata": {
        "id": "HXNWj77QnSlH"
      }
    },
    {
      "cell_type": "code",
      "source": [
        "degnans_age = 26 #integer being stored\n",
        "pi = 3.14 #float being stored\n",
        "name = \"Degnan\" #string being stored\n",
        "is_mathematician = True #boolean being stored"
      ],
      "metadata": {
        "id": "3eOkdvvJkJ92"
      },
      "execution_count": null,
      "outputs": []
    },
    {
      "cell_type": "markdown",
      "source": [
        "**Type Conversion**\n",
        "\n",
        "A type conversion is when you change one datatype to another. There are 2 types of type conversions. That is implicit type conversion and explicit type conversion.\n",
        "\n",
        "\n",
        "\n",
        "1.   Implicit Type Conversion: Python is able to detect when a conversion can be done, if it is logical, therefore changing it automatic\n",
        "\n",
        "2.   Explicit Type Conversion: This is when we change the datatype ourselves manually.\n",
        "\n"
      ],
      "metadata": {
        "id": "iMaAHPkapJOv"
      }
    },
    {
      "cell_type": "code",
      "source": [
        "#eg. implicit conversion\n",
        "\n",
        "a = 1.0\n",
        "b = 2\n",
        "\n",
        "c = a + b\n",
        "\n",
        "print(c)\n",
        "print(type(c)) #automatically changed c into a float"
      ],
      "metadata": {
        "colab": {
          "base_uri": "https://localhost:8080/"
        },
        "id": "I56eJdj5qL6n",
        "outputId": "3051be89-ac02-46e6-9f1e-2c5a52300162"
      },
      "execution_count": null,
      "outputs": [
        {
          "output_type": "stream",
          "name": "stdout",
          "text": [
            "3.0\n",
            "<class 'float'>\n"
          ]
        }
      ]
    },
    {
      "cell_type": "code",
      "source": [
        "#e.g explicit conversion\n",
        "\n",
        "a = 1\n",
        "b = \"2\"\n",
        "c = a + int(b)\n",
        "\n",
        "print(c)\n",
        "print(type(c))"
      ],
      "metadata": {
        "colab": {
          "base_uri": "https://localhost:8080/"
        },
        "id": "BPDL2bBprVZ4",
        "outputId": "d93c77ca-ace1-4907-dcbf-5af0128e6d97"
      },
      "execution_count": null,
      "outputs": [
        {
          "output_type": "stream",
          "name": "stdout",
          "text": [
            "3\n",
            "<class 'int'>\n"
          ]
        }
      ]
    },
    {
      "cell_type": "code",
      "source": [
        "zero = 0 #e.g explicit conversion\n",
        "print(bool(zero))"
      ],
      "metadata": {
        "colab": {
          "base_uri": "https://localhost:8080/"
        },
        "id": "QMpaW8upr4v4",
        "outputId": "f6334682-e9f9-47ff-baa1-fe476d66f8c7"
      },
      "execution_count": null,
      "outputs": [
        {
          "output_type": "stream",
          "name": "stdout",
          "text": [
            "False\n"
          ]
        }
      ]
    },
    {
      "cell_type": "markdown",
      "source": [
        "# **Lists, Sets, and Tuples**"
      ],
      "metadata": {
        "id": "rqmJMOlKo9av"
      }
    },
    {
      "cell_type": "markdown",
      "source": [
        "In Python, there are three built-in data structures that allows us to store a collection of items, these built-in data structures have their own methods in which we can manipulate the data structures. These built-in data structures are called lists, sets, and tuples."
      ],
      "metadata": {
        "id": "oZE1SORk8FVt"
      }
    },
    {
      "cell_type": "markdown",
      "source": [
        "**List**\n",
        "\n",
        "A list can store items of different types, they are also mutable and call allows duplicates.\n",
        "\n",
        "The follow shows list and its different methods being used."
      ],
      "metadata": {
        "id": "CR9ck7VQuhbn"
      }
    },
    {
      "cell_type": "code",
      "source": [
        "list = [10, 20, 30, \"ice_cream\", \"cookies\"]\n",
        "\n",
        "list.append(3.10) #this is adding a float to the list\n",
        "print(list)\n"
      ],
      "metadata": {
        "colab": {
          "base_uri": "https://localhost:8080/"
        },
        "id": "ctj8lM73pCeD",
        "outputId": "dedadc5b-b349-4287-d8c1-4683f466b6e5"
      },
      "execution_count": null,
      "outputs": [
        {
          "output_type": "stream",
          "name": "stdout",
          "text": [
            "[10, 20, 30, 'ice_cream', 'cookies', 3.1]\n"
          ]
        }
      ]
    },
    {
      "cell_type": "code",
      "source": [
        "list.insert(0, \"cake\") #this is adding a string to the beginning of the list\n",
        "print(list)"
      ],
      "metadata": {
        "colab": {
          "base_uri": "https://localhost:8080/"
        },
        "id": "G6fJv9ytwQKT",
        "outputId": "f8db234d-c353-41c9-9ff2-043f59a3508d"
      },
      "execution_count": null,
      "outputs": [
        {
          "output_type": "stream",
          "name": "stdout",
          "text": [
            "['cake', 10, 20, 30, 'ice_cream', 'cookies', 3.1]\n"
          ]
        }
      ]
    },
    {
      "cell_type": "code",
      "source": [
        "list.extend([0.0, 1.1]) #this is appending more elements.\n",
        "print(list)"
      ],
      "metadata": {
        "colab": {
          "base_uri": "https://localhost:8080/"
        },
        "id": "JBtsTOMxwemZ",
        "outputId": "e430e53f-37b0-4fbb-ec00-096e03e61ef1"
      },
      "execution_count": null,
      "outputs": [
        {
          "output_type": "stream",
          "name": "stdout",
          "text": [
            "['cake', 10, 20, 30, 'ice_cream', 'cookies', 3.1, 0.0, 1.1]\n"
          ]
        }
      ]
    },
    {
      "cell_type": "code",
      "source": [
        "list.remove(\"cookies\") #this is removing an element from the list\n",
        "print(list)"
      ],
      "metadata": {
        "colab": {
          "base_uri": "https://localhost:8080/"
        },
        "id": "3ahzU-oOwmwo",
        "outputId": "77524f86-1515-45e6-e281-d04b63dd75f8"
      },
      "execution_count": null,
      "outputs": [
        {
          "output_type": "stream",
          "name": "stdout",
          "text": [
            "['cake', 10, 20, 30, 'ice_cream', 3.1, 0.0, 1.1]\n"
          ]
        }
      ]
    },
    {
      "cell_type": "code",
      "source": [
        "list.pop() #this is removing the last element from the list\n",
        "print(list)"
      ],
      "metadata": {
        "colab": {
          "base_uri": "https://localhost:8080/"
        },
        "id": "TubHBg3Cw9vf",
        "outputId": "b9e2c9c8-2236-483c-ed9b-c85b42899dee"
      },
      "execution_count": null,
      "outputs": [
        {
          "output_type": "stream",
          "name": "stdout",
          "text": [
            "['cake', 10, 20, 30, 'ice_cream', 3.1, 0.0]\n"
          ]
        }
      ]
    },
    {
      "cell_type": "code",
      "source": [
        "ten_count =list.count(10) #this is counting the number of times an element appears in the list\n",
        "print(ten_count)"
      ],
      "metadata": {
        "colab": {
          "base_uri": "https://localhost:8080/"
        },
        "id": "4KGoP98uxG4c",
        "outputId": "d25fb84f-fdb0-4a8f-b8a5-61ad21529939"
      },
      "execution_count": null,
      "outputs": [
        {
          "output_type": "stream",
          "name": "stdout",
          "text": [
            "1\n"
          ]
        }
      ]
    },
    {
      "cell_type": "code",
      "source": [
        "list.clear() #this clear a list\n",
        "print(list)"
      ],
      "metadata": {
        "colab": {
          "base_uri": "https://localhost:8080/"
        },
        "id": "hJxxY__YxWcQ",
        "outputId": "b4e11d17-23eb-4d98-ed6a-ee5614d6f97e"
      },
      "execution_count": null,
      "outputs": [
        {
          "output_type": "stream",
          "name": "stdout",
          "text": [
            "[]\n"
          ]
        }
      ]
    },
    {
      "cell_type": "code",
      "source": [
        "list = [10, 9, 8, 7, 6, 5, 4, 3, 2, 1]\n",
        "list.sort() #this is sorting the list, it can be customized as well with a key and reverse flag.\n",
        "print(list)"
      ],
      "metadata": {
        "colab": {
          "base_uri": "https://localhost:8080/"
        },
        "id": "zEkRnoFcxjPJ",
        "outputId": "e2288a8e-5087-4b63-9143-ee1d1bab39a3"
      },
      "execution_count": null,
      "outputs": [
        {
          "output_type": "stream",
          "name": "stdout",
          "text": [
            "[1, 2, 3, 4, 5, 6, 7, 8, 9, 10]\n"
          ]
        }
      ]
    },
    {
      "cell_type": "code",
      "source": [
        "list.reverse() #this is reversing the list\n",
        "print(list)"
      ],
      "metadata": {
        "colab": {
          "base_uri": "https://localhost:8080/"
        },
        "id": "yvcMNIY-xzWo",
        "outputId": "4f608a39-cfda-4db7-c057-58e845ca5517"
      },
      "execution_count": null,
      "outputs": [
        {
          "output_type": "stream",
          "name": "stdout",
          "text": [
            "[10, 9, 8, 7, 6, 5, 4, 3, 2, 1]\n"
          ]
        }
      ]
    },
    {
      "cell_type": "code",
      "source": [
        "copied_list = list.copy() #this is copying the list\n",
        "print(copied_list)"
      ],
      "metadata": {
        "colab": {
          "base_uri": "https://localhost:8080/"
        },
        "id": "jCS1Rzlbx9tv",
        "outputId": "fbd05a64-011f-4525-d393-915cf1f0e2aa"
      },
      "execution_count": null,
      "outputs": [
        {
          "output_type": "stream",
          "name": "stdout",
          "text": [
            "[10, 9, 8, 7, 6, 5, 4, 3, 2, 1]\n"
          ]
        }
      ]
    },
    {
      "cell_type": "markdown",
      "source": [
        "A tuple is a collection of item, that allows duplicates but cannot be changed, this makes it immutable. You cannot add, remove, or change anything. This is an example of it being used with its different methods."
      ],
      "metadata": {
        "id": "oGttOmozyIFm"
      }
    },
    {
      "cell_type": "code",
      "source": [
        "tuple = (1, 5, 8, 8, \"chocolate\", \"vanilla\")\n",
        "\n",
        "print(tuple)"
      ],
      "metadata": {
        "colab": {
          "base_uri": "https://localhost:8080/"
        },
        "id": "5WbpM5hCyEzY",
        "outputId": "a111d737-fa71-44a0-b2fc-d1efe2f4fb6b"
      },
      "execution_count": null,
      "outputs": [
        {
          "output_type": "stream",
          "name": "stdout",
          "text": [
            "(1, 5, 8, 8, 'chocolate', 'vanilla')\n"
          ]
        }
      ]
    },
    {
      "cell_type": "code",
      "source": [
        "tuple.index(\"vanilla\") #this is getting the index of an element"
      ],
      "metadata": {
        "colab": {
          "base_uri": "https://localhost:8080/"
        },
        "id": "PX0PUkDJ4FaG",
        "outputId": "d2d19db9-db86-4bbe-d917-15472fe890ba"
      },
      "execution_count": null,
      "outputs": [
        {
          "output_type": "execute_result",
          "data": {
            "text/plain": [
              "5"
            ]
          },
          "metadata": {},
          "execution_count": 119
        }
      ]
    },
    {
      "cell_type": "code",
      "source": [
        "tuple.count(8) #this is counting the number of times an element appears in the tuple"
      ],
      "metadata": {
        "colab": {
          "base_uri": "https://localhost:8080/"
        },
        "id": "Ty4R7HFa4IQF",
        "outputId": "85e8a78a-7409-4842-a545-4f6b7f3dc11b"
      },
      "execution_count": null,
      "outputs": [
        {
          "output_type": "execute_result",
          "data": {
            "text/plain": [
              "2"
            ]
          },
          "metadata": {},
          "execution_count": 120
        }
      ]
    },
    {
      "cell_type": "markdown",
      "source": [
        "*Quick Fact: Tuples are much faster than list because of immutability.*"
      ],
      "metadata": {
        "id": "lVB4qqT54Sok"
      }
    },
    {
      "cell_type": "markdown",
      "source": [
        "A set is a collection of items in which the order of the items will not be preserves, just like tuplees they are immuatable but they do not allow duplicates. Here are some of examples of its uses and methods."
      ],
      "metadata": {
        "id": "m8p_RCRE5o9v"
      }
    },
    {
      "cell_type": "code",
      "source": [
        "n_set = {1, 2, \"was_the_middle\", 4, 5}\n",
        "print(n_set)"
      ],
      "metadata": {
        "colab": {
          "base_uri": "https://localhost:8080/"
        },
        "id": "Sz6G0J8K52aF",
        "outputId": "4fa35e5e-5749-49b5-9f11-ef201bf218c9"
      },
      "execution_count": null,
      "outputs": [
        {
          "output_type": "stream",
          "name": "stdout",
          "text": [
            "{1, 2, 4, 5, 'was_the_middle'}\n"
          ]
        }
      ]
    },
    {
      "cell_type": "code",
      "source": [
        "n_set.add(\"was_the_end\") #this is adding an element to the set\n",
        "print(n_set)"
      ],
      "metadata": {
        "colab": {
          "base_uri": "https://localhost:8080/"
        },
        "id": "ReaBwPgc4N8c",
        "outputId": "319b012a-a958-443e-b69f-715ab4fd602f"
      },
      "execution_count": null,
      "outputs": [
        {
          "output_type": "stream",
          "name": "stdout",
          "text": [
            "{1, 2, 4, 5, 'was_the_end', 'was_the_middle'}\n"
          ]
        }
      ]
    },
    {
      "cell_type": "code",
      "source": [
        "n_set.remove(4) #this is removing an element from the set\n",
        "print(n_set)"
      ],
      "metadata": {
        "colab": {
          "base_uri": "https://localhost:8080/"
        },
        "id": "L_qV2TSS6TI1",
        "outputId": "07442e15-11a0-48f9-9986-95039b6bf1e9"
      },
      "execution_count": null,
      "outputs": [
        {
          "output_type": "stream",
          "name": "stdout",
          "text": [
            "{1, 2, 5, 'was_the_end', 'was_the_middle'}\n"
          ]
        }
      ]
    },
    {
      "cell_type": "code",
      "source": [
        "n_set.pop() #this is removing an arbitrary element from the set.\n",
        "print(n_set)"
      ],
      "metadata": {
        "colab": {
          "base_uri": "https://localhost:8080/"
        },
        "id": "gXLEVCeL6Zfr",
        "outputId": "b4b622e6-e7c8-406f-f7d6-f6f505359cdc"
      },
      "execution_count": null,
      "outputs": [
        {
          "output_type": "stream",
          "name": "stdout",
          "text": [
            "{2, 5, 'was_the_end', 'was_the_middle'}\n"
          ]
        }
      ]
    },
    {
      "cell_type": "code",
      "source": [
        "m_set = {1, 2, 3, 4, 5}\n",
        "n_set.union(m_set) #this is combining two sets"
      ],
      "metadata": {
        "colab": {
          "base_uri": "https://localhost:8080/"
        },
        "id": "cYB6c4Sp6eVq",
        "outputId": "620983d8-3f74-48e8-b0e8-ba1cce425f77"
      },
      "execution_count": null,
      "outputs": [
        {
          "output_type": "execute_result",
          "data": {
            "text/plain": [
              "{1, 2, 3, 4, 5, 'was_the_end', 'was_the_middle'}"
            ]
          },
          "metadata": {},
          "execution_count": 125
        }
      ]
    },
    {
      "cell_type": "code",
      "source": [
        "common_set = n_set.intersection(m_set) #this is getting the common elements between two sets\n",
        "print(common_set)"
      ],
      "metadata": {
        "colab": {
          "base_uri": "https://localhost:8080/"
        },
        "id": "FpEqs6Bl64Ip",
        "outputId": "bc2ddedb-49e0-4e8d-eaf6-b4c7f1aed6c5"
      },
      "execution_count": null,
      "outputs": [
        {
          "output_type": "stream",
          "name": "stdout",
          "text": [
            "{2, 5}\n"
          ]
        }
      ]
    },
    {
      "cell_type": "code",
      "source": [
        "difference_srt = n_set.difference(m_set) #this is getting the difference between two sets\n",
        "print(difference_srt)"
      ],
      "metadata": {
        "colab": {
          "base_uri": "https://localhost:8080/"
        },
        "id": "7zji2zAZ7lme",
        "outputId": "d8bb0e27-88ed-446d-a706-1ab5a66c3fb7"
      },
      "execution_count": null,
      "outputs": [
        {
          "output_type": "stream",
          "name": "stdout",
          "text": [
            "{'was_the_end', 'was_the_middle'}\n"
          ]
        }
      ]
    },
    {
      "cell_type": "code",
      "source": [
        "n_set.issubset(m_set) #this is checking if one set is a subset of another set"
      ],
      "metadata": {
        "colab": {
          "base_uri": "https://localhost:8080/"
        },
        "id": "7yTIM8oC7p-f",
        "outputId": "03be75c3-aab6-441e-f4f2-3741bce7bff0"
      },
      "execution_count": null,
      "outputs": [
        {
          "output_type": "execute_result",
          "data": {
            "text/plain": [
              "False"
            ]
          },
          "metadata": {},
          "execution_count": 129
        }
      ]
    },
    {
      "cell_type": "code",
      "source": [
        "n_set.issuperset(m_set) #this is checking if one set is a superset of another set"
      ],
      "metadata": {
        "colab": {
          "base_uri": "https://localhost:8080/"
        },
        "id": "ZhxQ2VRL71nE",
        "outputId": "876f577f-6eb2-47bf-c191-7d1cab5c0b61"
      },
      "execution_count": null,
      "outputs": [
        {
          "output_type": "execute_result",
          "data": {
            "text/plain": [
              "False"
            ]
          },
          "metadata": {},
          "execution_count": 130
        }
      ]
    },
    {
      "cell_type": "code",
      "source": [],
      "metadata": {
        "id": "rS-6N_aq79Xg"
      },
      "execution_count": null,
      "outputs": []
    },
    {
      "cell_type": "code",
      "source": [],
      "metadata": {
        "id": "D4OqgxWn8KqU"
      },
      "execution_count": null,
      "outputs": []
    },
    {
      "cell_type": "markdown",
      "source": [
        "# **Dictionaries**"
      ],
      "metadata": {
        "id": "bK_BcD5Z8MSc"
      }
    },
    {
      "cell_type": "markdown",
      "source": [
        "In Python, a **dictionary** is unordered collection of data values. They contain both keys and values, the keys cannot be changed and they are also unique. The values however can be changed and can have duplicates. We use a particular key to access a particular value.\n",
        "\n",
        "Dictionaries are very flexible and is great for creating structured data. The following shows how dictionaries are used, and the different modes that manipulate them!"
      ],
      "metadata": {
        "id": "SmKxAFdD0eAC"
      }
    },
    {
      "cell_type": "code",
      "source": [],
      "metadata": {
        "id": "6Jqx8_Ft8O2E"
      },
      "execution_count": null,
      "outputs": []
    }
  ]
}